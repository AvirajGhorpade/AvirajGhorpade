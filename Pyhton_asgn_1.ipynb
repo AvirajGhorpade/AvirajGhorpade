{
  "nbformat": 4,
  "nbformat_minor": 0,
  "metadata": {
    "colab": {
      "provenance": [],
      "authorship_tag": "ABX9TyNWGPwY3v+KMnCxdbINPnZh",
      "include_colab_link": true
    },
    "kernelspec": {
      "name": "python3",
      "display_name": "Python 3"
    },
    "language_info": {
      "name": "python"
    }
  },
  "cells": [
    {
      "cell_type": "markdown",
      "metadata": {
        "id": "view-in-github",
        "colab_type": "text"
      },
      "source": [
        "<a href=\"https://colab.research.google.com/github/AvirajGhorpade/AvirajGhorpade/blob/main/Pyhton_asgn_1.ipynb\" target=\"_parent\"><img src=\"https://colab.research.google.com/assets/colab-badge.svg\" alt=\"Open In Colab\"/></a>"
      ]
    },
    {
      "cell_type": "code",
      "execution_count": null,
      "metadata": {
        "colab": {
          "base_uri": "https://localhost:8080/",
          "height": 110
        },
        "id": "XC8ilN-VdS61",
        "outputId": "5fb1ec30-a44d-4cb1-9b4d-3ae02da77992"
      },
      "outputs": [
        {
          "output_type": "error",
          "ename": "SyntaxError",
          "evalue": "invalid syntax (<ipython-input-4-5882b8c2ba67>, line 3)",
          "traceback": [
            "\u001b[0;36m  File \u001b[0;32m\"<ipython-input-4-5882b8c2ba67>\"\u001b[0;36m, line \u001b[0;32m3\u001b[0m\n\u001b[0;31m    Q = float (input(\"Enter the value of Discharge\": 4.8)) # Removed unexpected indent\u001b[0m\n\u001b[0m                                                   ^\u001b[0m\n\u001b[0;31mSyntaxError\u001b[0m\u001b[0;31m:\u001b[0m invalid syntax\n"
          ]
        }
      ],
      "source": [
        "# To find the downstream depth of open channel\n",
        "# Given Data\n",
        "Q = float (input(\"Enter the value of Discharge\": 4.8)) # Removed unexpected indent\n",
        "T= int(input(\"Enter the value of top width\": 2))\n",
        "g=float(input(\"Enter the value of acceleration due to Gravity\": 9.81))\n",
        "y1 = float(input(\"enter the value of upstream depth\": 1.6))\n",
        "Z= float(input(\"Enter the Value of hump\": 0.5))\n",
        "# Dicharge per meter width\n",
        "q=Q/T\n",
        "print (\"The value of discharge per meter width is:\", q)\n",
        "# Area Calculation\n",
        "A1= T*y1\n",
        "print (\"The value of upstream area is:\", A1)\n",
        "# Calculation of Froude Number\n",
        "Fr1 = (Q*Q*T)/(g*A1* A1 *A1) * 0.5 # Removed extra multiplication operator\n",
        "print (\"The value of Froude number is:\", Fr1)\n",
        "if Fr1>1:\n",
        "    pass # Added pass statement to fix syntax error\n",
        "    print(\"The flow is Super Critical Flow\") # Added indentation\n",
        "else:\n",
        "    print(\"The flow is Sub Critical Flow\") # Added indentation\n",
        "#Upstream Energy\n",
        "E1 = y1 + (Q*Q)/(2 *g*A1 *A1)\n",
        "print (\"The value of Energy at initial Section is:\", E1)\n",
        "# Downstream Energy\n",
        "E2 = E1 -Z\n",
        "print (\"The value of downstream Energy E2 is:\", E2)\n",
        "# Critical Depth\n",
        "yc = (q*a/e)**0.3333 # 'a' and 'e' variables are not defined. You'll need to provide values for these.\n",
        "print (\"The Value of critical depth is:\", yc)\n",
        "Ec = 1.5*yc # Replaced comma with a period for float multiplication\n",
        "print (\"The value of critical Energy is\", Ec)\n",
        "if Ec>E2:\n",
        "    print (\"Chocking Conditlon\") # Added indentation\n",
        "else:\n",
        "    print (\"SAFE\") # Added indentation\n",
        "# Calculation of Zmax\n",
        "Zmax =E1- Ec # Changed 'El' to 'E1' assuming it was a typo\n",
        "print (\"The value of maxinmum hump is:\", Zmax)"
      ]
    },
    {
      "cell_type": "code",
      "source": [
        "# To find the downstream depth of open channel\n",
        "# Given Data\n",
        "Q= float (input(\"Enter the value of Discharge:\"))\n",
        "T= int(input(\"Enter the value of top width:\"))\n",
        "g=float(input(\"Enter the value of acceleration due to Gravity:\"))\n",
        "y1 = float(input(\"enter the value of upstream depth:\"))\n",
        "Z= float(input(\"Enter the Value of hump: \"))\n",
        "# Dicharge per meter width\n",
        "q=Q/T\n",
        "print (\"The value of discharge per meter width is:\", q)\n",
        "# Area Calculation\n",
        "A1= T*y1\n",
        "print (\"The value of upstream area is:\", A1)\n",
        "# Calculation of Froude Number\n",
        "Fr1 = (Q*Q*T)/(g*A1* A1 *A1) * 0.5\n",
        "print (\"The value of Froude number is:\", Fr1)\n",
        "if Fr1>1:\n",
        "    # Replace with desired code\n",
        "    print(\"The flow is Super Critical Flow\")\n",
        "else:\n",
        "    print(\"The flow is Sub Critical Flow\")\n",
        "# Upstream Energy\n",
        "E1 = y1 + (Q*Q)/(2 *g*A1 *A1)\n",
        "print (\"The value of Energy at initial Section is:\", E1)\n",
        "# Downstream Energy\n",
        "E2 = E1 -Z\n",
        "print (\"The value of downstream Energy E2 is:\", E2)\n",
        "# Critical Depth\n",
        "yc = (q*q/g)**0.3333\n",
        "print (\"The Value of critical depth is:\", yc)\n",
        "Ec = 1.5*yc\n",
        "print(\"The value of critical Energy is\", Ec)\n",
        "if Ec > E2:\n",
        "    print(\"Chocking Condition\")\n",
        "else:\n",
        "    print(\"SAFE\")\n",
        "# Calculation of Zmax\n",
        "Zmax =E1- Ec\n",
        "print(\"The value of maxinmum hump is:\", Zmax)"
      ],
      "metadata": {
        "colab": {
          "base_uri": "https://localhost:8080/"
        },
        "id": "6JyR-MPhfVCj",
        "outputId": "886d0e9e-ed11-434f-fc1e-abbb3cf04421"
      },
      "execution_count": 28,
      "outputs": [
        {
          "output_type": "stream",
          "name": "stdout",
          "text": [
            "Enter the value of Discharge:4.8\n",
            "Enter the value of top width:2\n",
            "Enter the value of acceleration due to Gravity:9.81\n",
            "enter the value of upstream depth:1.6\n",
            "Enter the Value of hump: 0.1\n",
            "The value of discharge per meter width is: 2.4\n",
            "The value of upstream area is: 3.2\n",
            "The value of Froude number is: 0.07167431192660548\n",
            "The flow is Sub Critical Flow\n",
            "The value of Energy at initial Section is: 1.714678899082569\n",
            "The value of downstream Energy E2 is: 1.614678899082569\n",
            "The Value of critical depth is: 0.8373856872261649\n",
            "The value of critical Energy is 1.2560785308392473\n",
            "SAFE\n",
            "The value of maxinmum hump is: 0.45860036824332173\n"
          ]
        }
      ]
    }
  ]
}