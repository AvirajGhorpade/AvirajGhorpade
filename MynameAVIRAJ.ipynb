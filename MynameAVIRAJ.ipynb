{
  "nbformat": 4,
  "nbformat_minor": 0,
  "metadata": {
    "colab": {
      "provenance": [],
      "authorship_tag": "ABX9TyNZc+N02XKFoX3usqmwY2o7",
      "include_colab_link": true
    },
    "kernelspec": {
      "name": "python3",
      "display_name": "Python 3"
    },
    "language_info": {
      "name": "python"
    }
  },
  "cells": [
    {
      "cell_type": "markdown",
      "metadata": {
        "id": "view-in-github",
        "colab_type": "text"
      },
      "source": [
        "<a href=\"https://colab.research.google.com/github/AvirajGhorpade/AvirajGhorpade/blob/main/MynameAVIRAJ.ipynb\" target=\"_parent\"><img src=\"https://colab.research.google.com/assets/colab-badge.svg\" alt=\"Open In Colab\"/></a>"
      ]
    },
    {
      "cell_type": "code",
      "execution_count": 10,
      "metadata": {
        "colab": {
          "base_uri": "https://localhost:8080/"
        },
        "id": "-4qBQefBCxaQ",
        "outputId": "daa66788-6012-41a6-bc1f-504620bf17c8"
      },
      "outputs": [
        {
          "output_type": "stream",
          "name": "stdout",
          "text": [
            "\"Hello AVIRAJ GHORPADE\"\n"
          ]
        }
      ],
      "source": [
        "name=\"AVIRAJ GHORPADE\"\n",
        "print('\"Hello ' + name + '\"')"
      ]
    },
    {
      "cell_type": "markdown",
      "source": [],
      "metadata": {
        "id": "oEYPXhzrDLM8"
      }
    },
    {
      "cell_type": "code",
      "source": [],
      "metadata": {
        "id": "YHZbT4ikD9Du"
      },
      "execution_count": null,
      "outputs": []
    }
  ]
}